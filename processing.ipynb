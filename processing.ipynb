{
 "cells": [
  {
   "cell_type": "code",
   "execution_count": 1,
   "metadata": {},
   "outputs": [],
   "source": [
    "from POP909_Dataset_master.data_process.processor import MidiEventProcessor\n",
    "import pretty_midi as pyd\n",
    "import numpy as np\n",
    "from Code.RNN_file import *\n",
    "from os import listdir\n",
    "from tqdm import tqdm"
   ]
  },
  {
   "cell_type": "code",
   "execution_count": 2,
   "metadata": {},
   "outputs": [
    {
     "name": "stderr",
     "output_type": "stream",
     "text": [
      "  0%|          | 0/21 [00:00<?, ?it/s]c:\\Users\\Vianey Darsel\\AppData\\Local\\Programs\\Python\\Python39\\lib\\site-packages\\pretty_midi\\pretty_midi.py:100: RuntimeWarning: Tempo, Key or Time signature change events found on non-zero tracks.  This is not a valid type 0 or type 1 MIDI file.  Tempo, Key or Time Signature may be wrong.\n",
      "  warnings.warn(\n",
      "100%|██████████| 21/21 [02:18<00:00,  6.60s/it]\n"
     ]
    }
   ],
   "source": [
    "res = np.zeros(128,int)\n",
    "for folder in tqdm(listdir(\"Data\")):\n",
    "    for file in (listdir(\"Data/\"+folder)):\n",
    "        try:\n",
    "            file_midi = pyd.PrettyMIDI(\"Data/\"+folder+\"/\"+file)\n",
    "            for instrument in file_midi.instruments:\n",
    "                for note in instrument.notes:\n",
    "                    res[note.pitch]+=1\n",
    "        except:\n",
    "            print(folder,file)"
   ]
  },
  {
   "attachments": {},
   "cell_type": "markdown",
   "metadata": {},
   "source": [
    "Dans la figure ci-dessous, on voit que les pitchs/notes les plus utilisées sont entre 23 et 94. On se restreint donc à celles-ci"
   ]
  },
  {
   "cell_type": "code",
   "execution_count": 3,
   "metadata": {},
   "outputs": [
    {
     "data": {
      "image/png": "[encoded data removed]",
      "text/plain": [
       "<Figure size 432x288 with 1 Axes>"
      ]
     },
     "metadata": {
      "needs_background": "light"
     },
     "output_type": "display_data"
    }
   ],
   "source": [
    "plt.plot(res)\n",
    "plt.yscale('log')\n",
    "plt.xlim(0,127)\n",
    "plt.xlabel(\"Note Pitch\")\n",
    "plt.ylabel(\"Number of notes\")\n",
    "plt.show()"
   ]
  },
  {
   "cell_type": "code",
   "execution_count": 4,
   "metadata": {},
   "outputs": [],
   "source": [
    "res_ser = pd.Series(res)"
   ]
  },
  {
   "cell_type": "code",
   "execution_count": 5,
   "metadata": {},
   "outputs": [
    {
     "data": {
      "text/plain": [
       "23     1083\n",
       "24     2300\n",
       "25     1532\n",
       "26     7465\n",
       "27     4537\n",
       "       ... \n",
       "89     2189\n",
       "90     1953\n",
       "91     1931\n",
       "93     1187\n",
       "127    1179\n",
       "Length: 71, dtype: int32"
      ]
     },
     "execution_count": 5,
     "metadata": {},
     "output_type": "execute_result"
    }
   ],
   "source": [
    "res_ser[res_ser>1000]"
   ]
  },
  {
   "cell_type": "code",
   "execution_count": 2,
   "metadata": {},
   "outputs": [
    {
     "name": "stderr",
     "output_type": "stream",
     "text": [
      "  0%|          | 0/21 [00:00<?, ?it/s]c:\\Users\\Vianey Darsel\\AppData\\Local\\Programs\\Python\\Python39\\lib\\site-packages\\pretty_midi\\pretty_midi.py:100: RuntimeWarning: Tempo, Key or Time signature change events found on non-zero tracks.  This is not a valid type 0 or type 1 MIDI file.  Tempo, Key or Time Signature may be wrong.\n",
      "  warnings.warn(\n",
      " 10%|▉         | 2/21 [00:09<01:30,  4.78s/it]\n"
     ]
    },
    {
     "ename": "KeyboardInterrupt",
     "evalue": "",
     "output_type": "error",
     "traceback": [
      "\u001b[1;31m---------------------------------------------------------------------------\u001b[0m",
      "\u001b[1;31mKeyboardInterrupt\u001b[0m                         Traceback (most recent call last)",
      "\u001b[1;32mC:\\Users\\VIANEY~1\\AppData\\Local\\Temp/ipykernel_14932/32360544.py\u001b[0m in \u001b[0;36m<module>\u001b[1;34m\u001b[0m\n\u001b[0;32m      2\u001b[0m \u001b[1;32mfor\u001b[0m \u001b[0mfolder\u001b[0m \u001b[1;32min\u001b[0m \u001b[0mtqdm\u001b[0m\u001b[1;33m(\u001b[0m\u001b[0mlistdir\u001b[0m\u001b[1;33m(\u001b[0m\u001b[1;34m\"Data\"\u001b[0m\u001b[1;33m)\u001b[0m\u001b[1;33m)\u001b[0m\u001b[1;33m:\u001b[0m\u001b[1;33m\u001b[0m\u001b[1;33m\u001b[0m\u001b[0m\n\u001b[0;32m      3\u001b[0m     \u001b[1;32mfor\u001b[0m \u001b[0mfile\u001b[0m \u001b[1;32min\u001b[0m \u001b[1;33m(\u001b[0m\u001b[0mlistdir\u001b[0m\u001b[1;33m(\u001b[0m\u001b[1;34m\"Data/\"\u001b[0m\u001b[1;33m+\u001b[0m\u001b[0mfolder\u001b[0m\u001b[1;33m)\u001b[0m\u001b[1;33m)\u001b[0m\u001b[1;33m:\u001b[0m\u001b[1;33m\u001b[0m\u001b[1;33m\u001b[0m\u001b[0m\n\u001b[1;32m----> 4\u001b[1;33m         \u001b[0mfile_check\u001b[0m \u001b[1;33m=\u001b[0m \u001b[0mpyd\u001b[0m\u001b[1;33m.\u001b[0m\u001b[0mPrettyMIDI\u001b[0m\u001b[1;33m(\u001b[0m\u001b[1;34m\"Data/\"\u001b[0m\u001b[1;33m+\u001b[0m\u001b[0mfolder\u001b[0m\u001b[1;33m+\u001b[0m\u001b[1;34m\"/\"\u001b[0m\u001b[1;33m+\u001b[0m\u001b[0mfile\u001b[0m\u001b[1;33m)\u001b[0m\u001b[1;33m\u001b[0m\u001b[1;33m\u001b[0m\u001b[0m\n\u001b[0m\u001b[0;32m      5\u001b[0m         \u001b[0mlength_each\u001b[0m\u001b[1;33m.\u001b[0m\u001b[0mappend\u001b[0m\u001b[1;33m(\u001b[0m\u001b[0mfile_check\u001b[0m\u001b[1;33m.\u001b[0m\u001b[0mtime_to_tick\u001b[0m\u001b[1;33m(\u001b[0m\u001b[0mfile_check\u001b[0m\u001b[1;33m.\u001b[0m\u001b[0mget_end_time\u001b[0m\u001b[1;33m(\u001b[0m\u001b[1;33m)\u001b[0m\u001b[1;33m)\u001b[0m\u001b[1;33m)\u001b[0m\u001b[1;33m\u001b[0m\u001b[1;33m\u001b[0m\u001b[0m\n",
      "\u001b[1;32mc:\\Users\\Vianey Darsel\\AppData\\Local\\Programs\\Python\\Python39\\lib\\site-packages\\pretty_midi\\pretty_midi.py\u001b[0m in \u001b[0;36m__init__\u001b[1;34m(self, midi_file, resolution, initial_tempo)\u001b[0m\n\u001b[0;32m     61\u001b[0m             \u001b[1;32mif\u001b[0m \u001b[0misinstance\u001b[0m\u001b[1;33m(\u001b[0m\u001b[0mmidi_file\u001b[0m\u001b[1;33m,\u001b[0m \u001b[0msix\u001b[0m\u001b[1;33m.\u001b[0m\u001b[0mstring_types\u001b[0m\u001b[1;33m)\u001b[0m\u001b[1;33m:\u001b[0m\u001b[1;33m\u001b[0m\u001b[1;33m\u001b[0m\u001b[0m\n\u001b[0;32m     62\u001b[0m                 \u001b[1;31m# If a string was given, pass it as the string filename\u001b[0m\u001b[1;33m\u001b[0m\u001b[1;33m\u001b[0m\u001b[0m\n\u001b[1;32m---> 63\u001b[1;33m                 \u001b[0mmidi_data\u001b[0m \u001b[1;33m=\u001b[0m \u001b[0mmido\u001b[0m\u001b[1;33m.\u001b[0m\u001b[0mMidiFile\u001b[0m\u001b[1;33m(\u001b[0m\u001b[0mfilename\u001b[0m\u001b[1;33m=\u001b[0m\u001b[0mmidi_file\u001b[0m\u001b[1;33m)\u001b[0m\u001b[1;33m\u001b[0m\u001b[1;33m\u001b[0m\u001b[0m\n\u001b[0m\u001b[0;32m     64\u001b[0m             \u001b[1;32melse\u001b[0m\u001b[1;33m:\u001b[0m\u001b[1;33m\u001b[0m\u001b[1;33m\u001b[0m\u001b[0m\n\u001b[0;32m     65\u001b[0m                 \u001b[1;31m# Otherwise, try passing it in as a file pointer\u001b[0m\u001b[1;33m\u001b[0m\u001b[1;33m\u001b[0m\u001b[0m\n",
      "\u001b[1;32mc:\\Users\\Vianey Darsel\\AppData\\Local\\Programs\\Python\\Python39\\lib\\site-packages\\mido\\midifiles\\midifiles.py\u001b[0m in \u001b[0;36m__init__\u001b[1;34m(self, filename, file, type, ticks_per_beat, charset, debug, clip, tracks)\u001b[0m\n\u001b[0;32m    322\u001b[0m         \u001b[1;32melif\u001b[0m \u001b[0mself\u001b[0m\u001b[1;33m.\u001b[0m\u001b[0mfilename\u001b[0m \u001b[1;32mis\u001b[0m \u001b[1;32mnot\u001b[0m \u001b[1;32mNone\u001b[0m\u001b[1;33m:\u001b[0m\u001b[1;33m\u001b[0m\u001b[1;33m\u001b[0m\u001b[0m\n\u001b[0;32m    323\u001b[0m             \u001b[1;32mwith\u001b[0m \u001b[0mio\u001b[0m\u001b[1;33m.\u001b[0m\u001b[0mopen\u001b[0m\u001b[1;33m(\u001b[0m\u001b[0mfilename\u001b[0m\u001b[1;33m,\u001b[0m \u001b[1;34m'rb'\u001b[0m\u001b[1;33m)\u001b[0m \u001b[1;32mas\u001b[0m \u001b[0mfile\u001b[0m\u001b[1;33m:\u001b[0m\u001b[1;33m\u001b[0m\u001b[1;33m\u001b[0m\u001b[0m\n\u001b[1;32m--> 324\u001b[1;33m                 \u001b[0mself\u001b[0m\u001b[1;33m.\u001b[0m\u001b[0m_load\u001b[0m\u001b[1;33m(\u001b[0m\u001b[0mfile\u001b[0m\u001b[1;33m)\u001b[0m\u001b[1;33m\u001b[0m\u001b[1;33m\u001b[0m\u001b[0m\n\u001b[0m\u001b[0;32m    325\u001b[0m \u001b[1;33m\u001b[0m\u001b[0m\n\u001b[0;32m    326\u001b[0m     \u001b[1;32mdef\u001b[0m \u001b[0madd_track\u001b[0m\u001b[1;33m(\u001b[0m\u001b[0mself\u001b[0m\u001b[1;33m,\u001b[0m \u001b[0mname\u001b[0m\u001b[1;33m=\u001b[0m\u001b[1;32mNone\u001b[0m\u001b[1;33m)\u001b[0m\u001b[1;33m:\u001b[0m\u001b[1;33m\u001b[0m\u001b[1;33m\u001b[0m\u001b[0m\n",
      "\u001b[1;32mc:\\Users\\Vianey Darsel\\AppData\\Local\\Programs\\Python\\Python39\\lib\\site-packages\\mido\\midifiles\\midifiles.py\u001b[0m in \u001b[0;36m_load\u001b[1;34m(self, infile)\u001b[0m\n\u001b[0;32m    357\u001b[0m                     \u001b[0m_dbg\u001b[0m\u001b[1;33m(\u001b[0m\u001b[1;34m'Track {}:'\u001b[0m\u001b[1;33m.\u001b[0m\u001b[0mformat\u001b[0m\u001b[1;33m(\u001b[0m\u001b[0mi\u001b[0m\u001b[1;33m)\u001b[0m\u001b[1;33m)\u001b[0m\u001b[1;33m\u001b[0m\u001b[1;33m\u001b[0m\u001b[0m\n\u001b[0;32m    358\u001b[0m \u001b[1;33m\u001b[0m\u001b[0m\n\u001b[1;32m--> 359\u001b[1;33m                 self.tracks.append(read_track(infile,\n\u001b[0m\u001b[0;32m    360\u001b[0m                                               \u001b[0mdebug\u001b[0m\u001b[1;33m=\u001b[0m\u001b[0mself\u001b[0m\u001b[1;33m.\u001b[0m\u001b[0mdebug\u001b[0m\u001b[1;33m,\u001b[0m\u001b[1;33m\u001b[0m\u001b[1;33m\u001b[0m\u001b[0m\n\u001b[0;32m    361\u001b[0m                                               clip=self.clip))\n",
      "\u001b[1;32mc:\\Users\\Vianey Darsel\\AppData\\Local\\Programs\\Python\\Python39\\lib\\site-packages\\mido\\midifiles\\midifiles.py\u001b[0m in \u001b[0;36mread_track\u001b[1;34m(infile, debug, clip)\u001b[0m\n\u001b[0;32m    190\u001b[0m     \u001b[1;32mwhile\u001b[0m \u001b[1;32mTrue\u001b[0m\u001b[1;33m:\u001b[0m\u001b[1;33m\u001b[0m\u001b[1;33m\u001b[0m\u001b[0m\n\u001b[0;32m    191\u001b[0m         \u001b[1;31m# End of track reached.\u001b[0m\u001b[1;33m\u001b[0m\u001b[1;33m\u001b[0m\u001b[0m\n\u001b[1;32m--> 192\u001b[1;33m         \u001b[1;32mif\u001b[0m \u001b[0minfile\u001b[0m\u001b[1;33m.\u001b[0m\u001b[0mtell\u001b[0m\u001b[1;33m(\u001b[0m\u001b[1;33m)\u001b[0m \u001b[1;33m-\u001b[0m \u001b[0mstart\u001b[0m \u001b[1;33m==\u001b[0m \u001b[0msize\u001b[0m\u001b[1;33m:\u001b[0m\u001b[1;33m\u001b[0m\u001b[1;33m\u001b[0m\u001b[0m\n\u001b[0m\u001b[0;32m    193\u001b[0m             \u001b[1;32mbreak\u001b[0m\u001b[1;33m\u001b[0m\u001b[1;33m\u001b[0m\u001b[0m\n\u001b[0;32m    194\u001b[0m \u001b[1;33m\u001b[0m\u001b[0m\n",
      "\u001b[1;31mKeyboardInterrupt\u001b[0m: "
     ]
    }
   ],
   "source": [
    "length_each = []\n",
    "for folder in tqdm(listdir(\"Data\")):\n",
    "    for file in (listdir(\"Data/\"+folder)):\n",
    "        file_check = pyd.PrettyMIDI(\"Data/\"+folder+\"/\"+file)\n",
    "        length_each.append(file_check.time_to_tick(file_check.get_end_time()))"
   ]
  },
  {
   "cell_type": "code",
   "execution_count": 2,
   "metadata": {},
   "outputs": [],
   "source": [
    "path_file_array = []\n",
    "for file in (listdir(\"Data/beatles\")):\n",
    "    path_file_array.append(\"Data/beatles/\"+file)"
   ]
  },
  {
   "cell_type": "code",
   "execution_count": 2,
   "metadata": {},
   "outputs": [
    {
     "name": "stderr",
     "output_type": "stream",
     "text": [
      "100%|██████████| 21/21 [00:00<00:00, 7008.31it/s]\n"
     ]
    }
   ],
   "source": [
    "path_file_array = []\n",
    "for folder in tqdm(listdir(\"Data\")):\n",
    "    for file in (listdir(\"Data/\"+folder)):\n",
    "        path_file_array.append(\"Data/\"+folder+\"/\"+file)"
   ]
  },
  {
   "cell_type": "code",
   "execution_count": 3,
   "metadata": {},
   "outputs": [
    {
     "ename": "NameError",
     "evalue": "name 'length_each' is not defined",
     "output_type": "error",
     "traceback": [
      "\u001b[1;31m---------------------------------------------------------------------------\u001b[0m",
      "\u001b[1;31mNameError\u001b[0m                                 Traceback (most recent call last)",
      "\u001b[1;32mC:\\Users\\VIANEY~1\\AppData\\Local\\Temp/ipykernel_17712/3392272673.py\u001b[0m in \u001b[0;36m<module>\u001b[1;34m\u001b[0m\n\u001b[1;32m----> 1\u001b[1;33m \u001b[0mpd\u001b[0m\u001b[1;33m.\u001b[0m\u001b[0mSeries\u001b[0m\u001b[1;33m(\u001b[0m\u001b[0mlength_each\u001b[0m\u001b[1;33m,\u001b[0m\u001b[0mpath_file_array\u001b[0m\u001b[1;33m)\u001b[0m\u001b[1;33m.\u001b[0m\u001b[0msort_values\u001b[0m\u001b[1;33m(\u001b[0m\u001b[1;33m)\u001b[0m\u001b[1;33m.\u001b[0m\u001b[0mhead\u001b[0m\u001b[1;33m(\u001b[0m\u001b[1;36m11\u001b[0m\u001b[1;33m)\u001b[0m\u001b[1;33m.\u001b[0m\u001b[0msort_index\u001b[0m\u001b[1;33m(\u001b[0m\u001b[1;33m)\u001b[0m\u001b[1;33m\u001b[0m\u001b[1;33m\u001b[0m\u001b[0m\n\u001b[0m",
      "\u001b[1;31mNameError\u001b[0m: name 'length_each' is not defined"
     ]
    }
   ],
   "source": [
    "pd.Series(length_each,path_file_array).sort_values().head(11).sort_index()"
   ]
  },
  {
   "attachments": {},
   "cell_type": "markdown",
   "metadata": {},
   "source": [
    "# Apprentissage avec un RNN"
   ]
  },
  {
   "cell_type": "code",
   "execution_count": 12,
   "metadata": {},
   "outputs": [],
   "source": [
    "RNN = RNN_music(23,93,120)"
   ]
  },
  {
   "attachments": {},
   "cell_type": "markdown",
   "metadata": {},
   "source": [
    "## Apprentissage d'une seule musique"
   ]
  },
  {
   "cell_type": "code",
   "execution_count": 15,
   "metadata": {},
   "outputs": [
    {
     "name": "stdout",
     "output_type": "stream",
     "text": [
      "After 100 updates, loss: 0.7403883078376327\n",
      "After 200 updates, loss: 0.6804564682531917\n",
      "After 300 updates, loss: 0.6253797176401813\n",
      "After 400 updates, loss: 0.5755888399143353\n",
      "After 500 updates, loss: 0.5305131125993099\n",
      "After 600 updates, loss: 0.489713347260908\n",
      "After 700 updates, loss: 0.4526675921920973\n",
      "After 800 updates, loss: 0.419372795686675\n",
      "After 900 updates, loss: 0.3892921747001978\n",
      "After 1000 updates, loss: 0.36194452649218894\n",
      "After 1100 updates, loss: 0.3374857823113516\n",
      "After 1200 updates, loss: 0.3151078378805278\n",
      "After 1300 updates, loss: 0.29490860649861356\n",
      "After 1400 updates, loss: 0.27659732868127074\n",
      "After 1500 updates, loss: 0.26007929414691733\n",
      "After 1600 updates, loss: 0.24520042389038268\n",
      "After 1700 updates, loss: 0.23169383950684413\n",
      "After 1800 updates, loss: 0.21920164101319786\n",
      "After 1900 updates, loss: 0.20821871400086905\n",
      "After 2000 updates, loss: 0.1980543996523991\n",
      "After 2100 updates, loss: 0.18916555208033195\n",
      "After 2200 updates, loss: 0.18094744595506176\n",
      "After 2300 updates, loss: 0.173855301108215\n",
      "After 2400 updates, loss: 0.16723254799367512\n",
      "After 2500 updates, loss: 0.16107069431251125\n",
      "After 2600 updates, loss: 0.15576761250340534\n",
      "After 2700 updates, loss: 0.15084601671068198\n",
      "After 2800 updates, loss: 0.1459918858209197\n",
      "After 2900 updates, loss: 0.14201551280645627\n",
      "After 3000 updates, loss: 0.13844690959674438\n",
      "After 3100 updates, loss: 0.13515119738712278\n",
      "After 3200 updates, loss: 0.13234048944991314\n",
      "After 3300 updates, loss: 0.12947775089201624\n",
      "After 3400 updates, loss: 0.127154929847633\n",
      "After 3500 updates, loss: 0.1250847017845748\n",
      "After 3600 updates, loss: 0.12327542792624811\n",
      "After 3700 updates, loss: 0.12193581749819977\n",
      "After 3800 updates, loss: 0.12022452407196858\n",
      "After 3900 updates, loss: 0.11869881852833689\n",
      "After 4000 updates, loss: 0.1174382348713295\n",
      "After 4100 updates, loss: 0.11620688432330034\n",
      "After 4200 updates, loss: 0.11538954154690952\n",
      "After 4300 updates, loss: 0.11452386605677284\n",
      "After 4400 updates, loss: 0.11346198156340079\n",
      "After 4500 updates, loss: 0.11247620148035291\n",
      "After 4600 updates, loss: 0.11204706569439962\n",
      "After 4700 updates, loss: 0.11151930813053973\n",
      "After 4800 updates, loss: 0.11180530113818551\n",
      "After 4900 updates, loss: 0.11148635472412664\n",
      "After 5000 updates, loss: 0.11106160732677473\n"
     ]
    }
   ],
   "source": [
    "loss_arr, music_arr = Adam_one_file(RNN,\"Modified_data/yesterday.mid\",5.0,200,0.01)"
   ]
  },
  {
   "cell_type": "code",
   "execution_count": 6,
   "metadata": {},
   "outputs": [
    {
     "data": {
      "text/plain": [
       "[<matplotlib.lines.Line2D at 0x248729d7190>]"
      ]
     },
     "execution_count": 6,
     "metadata": {},
     "output_type": "execute_result"
    },
    {
     "data": {
      "image/png": "[encoded data removed]",
      "text/plain": [
       "<Figure size 432x288 with 1 Axes>"
      ]
     },
     "metadata": {
      "needs_background": "light"
     },
     "output_type": "display_data"
    }
   ],
   "source": [
    "plt.plot(loss_arr)"
   ]
  },
  {
   "cell_type": "code",
   "execution_count": 17,
   "metadata": {},
   "outputs": [
    {
     "data": {
      "image/png": "[encoded data removed]",
      "text/plain": [
       "<Figure size 720x432 with 1 Axes>"
      ]
     },
     "metadata": {
      "needs_background": "light"
     },
     "output_type": "display_data"
    }
   ],
   "source": [
    "plt.figure(figsize=[10,6])\n",
    "plt.plot(loss_arr)\n",
    "plt.xlim(0,len(loss_arr)-1)\n",
    "plt.ylim(bottom=0)\n",
    "plt.xlabel(\"Number of updates\")\n",
    "plt.ylabel(\"Smooth loss\")\n",
    "plt.show()"
   ]
  },
  {
   "cell_type": "code",
   "execution_count": 14,
   "metadata": {},
   "outputs": [
    {
     "data": {
      "text/plain": [
       "2500"
      ]
     },
     "execution_count": 14,
     "metadata": {},
     "output_type": "execute_result"
    }
   ],
   "source": []
  },
  {
   "cell_type": "code",
   "execution_count": 32,
   "metadata": {},
   "outputs": [
    {
     "name": "stderr",
     "output_type": "stream",
     "text": [
      "100%|██████████| 1220/1220 [02:29<00:00,  8.15it/s]\n"
     ]
    }
   ],
   "source": [
    "res = 0\n",
    "for j in tqdm(range(len(path_file_array))):\n",
    "    path = path_file_array[j]\n",
    "    music_file = pyd.PrettyMIDI(path)\n",
    "    end_tick = music_file.time_to_tick(music_file.get_end_time())\n",
    "    res += int(end_tick//2500)"
   ]
  },
  {
   "cell_type": "code",
   "execution_count": 8,
   "metadata": {},
   "outputs": [
    {
     "name": "stderr",
     "output_type": "stream",
     "text": [
      "c:\\Users\\Vianey Darsel\\AppData\\Local\\Programs\\Python\\Python39\\lib\\site-packages\\pretty_midi\\pretty_midi.py:100: RuntimeWarning: Tempo, Key or Time signature change events found on non-zero tracks.  This is not a valid type 0 or type 1 MIDI file.  Tempo, Key or Time Signature may be wrong.\n",
      "  warnings.warn(\n"
     ]
    }
   ],
   "source": [
    "length_time=[]\n",
    "for file_path in path_file_array:\n",
    "    file_music = pyd.PrettyMIDI(file_path)\n",
    "    length_time.append(file_music.get_end_time())"
   ]
  },
  {
   "cell_type": "code",
   "execution_count": 10,
   "metadata": {},
   "outputs": [
    {
     "data": {
      "text/plain": [
       "Data/beatles/HerMajesty.mid                   22.217500\n",
       "Data/beatles/MaggieMae.mid                    38.055774\n",
       "Data/beatles/WildHoneyPie.mid                 51.428496\n",
       "Data/beatles/DigIt.mid                        61.196667\n",
       "Data/beatles/WhatYourDoing.mid                70.930071\n",
       "                                                ...    \n",
       "Data/beatles/ADayintheLife(2).mid            288.235220\n",
       "Data/beatles/ImTheWalrus.mid                 293.646912\n",
       "Data/beatles/WhileMyGuitarGentlyWeeps.mid    368.833333\n",
       "Data/beatles/HeyJude (1).mid                 457.297404\n",
       "Data/beatles/IWantYou.mid                    474.725000\n",
       "Length: 261, dtype: float64"
      ]
     },
     "execution_count": 10,
     "metadata": {},
     "output_type": "execute_result"
    }
   ],
   "source": [
    "pd.Series(length_time,path_file_array).sort_values()"
   ]
  },
  {
   "cell_type": "code",
   "execution_count": 3,
   "metadata": {},
   "outputs": [],
   "source": [
    "test = pyd.PrettyMIDI(\"Data/beatles/ADayInTheLife.mid\")"
   ]
  },
  {
   "cell_type": "code",
   "execution_count": 46,
   "metadata": {},
   "outputs": [],
   "source": [
    "def convert_to_2D(analyze_file : pyd.PrettyMIDI):\n",
    "    '''Conversion d'un fichier MIDI en np array avec des 0 et 1'''\n",
    "    n_ticks = test.time_to_tick(test.get_end_time())+1\n",
    "    res = np.zeros((n_ticks,128),int)\n",
    "    for i in range(len(analyze_file.instruments)):\n",
    "        for note in analyze_file.instruments[i].notes:\n",
    "            tick_start = analyze_file.time_to_tick(note.start)\n",
    "            tick_end = analyze_file.time_to_tick(note.end)\n",
    "            for j in range(tick_start,tick_end+1):\n",
    "                res[j][note.pitch]+=1\n",
    "    return res"
   ]
  },
  {
   "cell_type": "code",
   "execution_count": 49,
   "metadata": {},
   "outputs": [
    {
     "data": {
      "text/plain": [
       "array([[0, 0, 0, ..., 0, 0, 0],\n",
       "       [0, 0, 0, ..., 0, 0, 0],\n",
       "       [0, 0, 0, ..., 0, 0, 0],\n",
       "       ...,\n",
       "       [0, 0, 0, ..., 0, 0, 0],\n",
       "       [0, 0, 0, ..., 0, 0, 0],\n",
       "       [0, 0, 0, ..., 0, 0, 0]])"
      ]
     },
     "execution_count": 49,
     "metadata": {},
     "output_type": "execute_result"
    }
   ],
   "source": [
    "(convert_to_2D(test))"
   ]
  }
 ],
 "metadata": {
  "kernelspec": {
   "display_name": "Python 3",
   "language": "python",
   "name": "python3"
  },
  "language_info": {
   "codemirror_mode": {
    "name": "ipython",
    "version": 3
   },
   "file_extension": ".py",
   "mimetype": "text/x-python",
   "name": "python",
   "nbconvert_exporter": "python",
   "pygments_lexer": "ipython3",
   "version": "3.9.7"
  },
  "orig_nbformat": 4
 },
 "nbformat": 4,
 "nbformat_minor": 2
}
