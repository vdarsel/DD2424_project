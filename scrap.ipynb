{
 "cells": [
  {
   "cell_type": "code",
   "execution_count": 10,
   "metadata": {},
   "outputs": [],
   "source": [
    "import numpy as np\n",
    "from bs4 import BeautifulSoup\n",
    "from requests_html import HTMLSession\n",
    "from selenium import webdriver\n",
    "from selenium.webdriver.common.desired_capabilities import DesiredCapabilities\n",
    "from time import sleep\n",
    "import os"
   ]
  },
  {
   "cell_type": "code",
   "execution_count": 11,
   "metadata": {},
   "outputs": [
    {
     "name": "stderr",
     "output_type": "stream",
     "text": [
      "C:\\Users\\VIANEY~1\\AppData\\Local\\Temp/ipykernel_4920/504596751.py:4: DeprecationWarning: executable_path has been deprecated, please pass in a Service object\n",
      "  browser = webdriver.Chrome(chrome_path,desired_capabilities=caps)\n"
     ]
    }
   ],
   "source": [
    "chrome_path = r'C:\\Users\\Vianey Darsel\\Downloads\\chromedriver.exe'\n",
    "caps = DesiredCapabilities().CHROME\n",
    "caps[\"pageLoadStrategy\"] = \"none\"\n",
    "browser = webdriver.Chrome(chrome_path,desired_capabilities=caps)\n",
    "browser.set_page_load_timeout(100)"
   ]
  },
  {
   "cell_type": "code",
   "execution_count": 17,
   "metadata": {},
   "outputs": [],
   "source": [
    "def download_all_from_artist(name: str, browser: webdriver):\n",
    "    download_path = r'C:\\Users\\Vianey Darsel\\Downloads\\\\'\n",
    "    os.mkdir(download_path+name)\n",
    "    requests = HTMLSession()\n",
    "    base_url = \"https://freemidi.org\"\n",
    "    url = \"https://freemidi.org/search?q=\"+name.replace(\" \",\"+\")\n",
    "    response = requests.get(url)\n",
    "    html = BeautifulSoup(response.text, 'html.parser')\n",
    "    artist_page = html.find_all(\"div\",class_=\"search-song-title\")[0].find_all(\"a\")[0].get_attribute_list(\"href\")[0]\n",
    "    url_artist = base_url + artist_page\n",
    "    response = requests.get(url_artist)\n",
    "    html = BeautifulSoup(response.text, 'html.parser')\n",
    "    n_page = int(html.find_all(\"ul\", class_=\"pagination\")[0].find_all(\"a\")[-2].getText())\n",
    "    songs_url=[]\n",
    "    for i in range(n_page):\n",
    "        url_artist = base_url + artist_page + \"-P-\"+str(i)\n",
    "        response = requests.get(url_artist)\n",
    "        html = BeautifulSoup(response.text, 'html.parser')\n",
    "        for track in html.find_all(\"div\", itemprop=\"tracks\"):\n",
    "            songs_url.append(track.find_all(\"a\", itemprop=\"url\")[0].get_attribute_list(\"href\")[0])\n",
    "    for song_url in songs_url:\n",
    "        final_url = base_url+\"/\"+song_url\n",
    "        try:\n",
    "            browser.get(final_url)\n",
    "            sleep(1)\n",
    "            clickable = browser.find_element(value=\"downloadmidi\")\n",
    "            clickable.click()\n",
    "            print(\"Success with \"+song_url)\n",
    "        except:\n",
    "            print(\"Error with \"+song_url)"
   ]
  },
  {
   "cell_type": "code",
   "execution_count": 18,
   "metadata": {},
   "outputs": [
    {
     "name": "stdout",
     "output_type": "stream",
     "text": [
      "Success with download3-12967-champagne-showers-lmfao\n",
      "Success with download3-12834-party-rock-anthem-lmfao\n",
      "Success with download3-27514-party-rock-anthem-2-lmfao\n",
      "Success with download3-12968-rock-the-beat-lmfao\n",
      "Success with download3-12835-sexy-and-i-know-it-lmfao\n"
     ]
    }
   ],
   "source": [
    "download_all_from_artist(\"lmfao\", browser)"
   ]
  }
 ],
 "metadata": {
  "kernelspec": {
   "display_name": "Python 3",
   "language": "python",
   "name": "python3"
  },
  "language_info": {
   "codemirror_mode": {
    "name": "ipython",
    "version": 3
   },
   "file_extension": ".py",
   "mimetype": "text/x-python",
   "name": "python",
   "nbconvert_exporter": "python",
   "pygments_lexer": "ipython3",
   "version": "3.9.7"
  },
  "orig_nbformat": 4
 },
 "nbformat": 4,
 "nbformat_minor": 2
}
