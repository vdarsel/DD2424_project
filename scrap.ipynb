{
 "cells": [
  {
   "cell_type": "code",
   "execution_count": 1,
   "metadata": {},
   "outputs": [],
   "source": [
    "import numpy as np\n",
    "from bs4 import BeautifulSoup\n",
    "from requests_html import HTMLSession\n",
    "from selenium import webdriver\n",
    "from selenium.webdriver.common.desired_capabilities import DesiredCapabilities\n",
    "from time import sleep\n",
    "import os"
   ]
  },
  {
   "cell_type": "code",
   "execution_count": 8,
   "metadata": {},
   "outputs": [
    {
     "name": "stderr",
     "output_type": "stream",
     "text": [
      "C:\\Users\\VIANEY~1\\AppData\\Local\\Temp/ipykernel_33380/504596751.py:4: DeprecationWarning: executable_path has been deprecated, please pass in a Service object\n",
      "  browser = webdriver.Chrome(chrome_path,desired_capabilities=caps)\n"
     ]
    }
   ],
   "source": [
    "chrome_path = r'C:\\Users\\Vianey Darsel\\Downloads\\chromedriver.exe'\n",
    "caps = DesiredCapabilities().CHROME\n",
    "caps[\"pageLoadStrategy\"] = \"none\"\n",
    "browser = webdriver.Chrome(chrome_path,desired_capabilities=caps)\n",
    "browser.set_page_load_timeout(100)"
   ]
  },
  {
   "cell_type": "code",
   "execution_count": 34,
   "metadata": {},
   "outputs": [],
   "source": [
    "def download_all_from_artist(name: str):\n",
    "    chrome_path = r'C:\\Users\\Vianey Darsel\\Downloads\\chromedriver.exe'\n",
    "    download_path = r'C:\\Users\\Vianey Darsel\\Downloads\\\\'\n",
    "    if(not os.path.isdir(download_path+name)):\n",
    "        os.mkdir(download_path+name)\n",
    "    print(download_path+name)\n",
    "    requests = HTMLSession()\n",
    "    chrome_options = webdriver.ChromeOptions()\n",
    "    prefs = {\"download.default_directory\" : download_path[:-1]+name+\"\\\\\"}\n",
    "    print(download_path[:-1]+name+\"\\\\\")\n",
    "    chrome_options.add_experimental_option('prefs', prefs)\n",
    "    caps = DesiredCapabilities().CHROME\n",
    "    caps[\"pageLoadStrategy\"] = \"none\"\n",
    "    browser = webdriver.Chrome(chrome_path,desired_capabilities=caps,options=chrome_options)\n",
    "    browser.set_page_load_timeout(100)\n",
    "    base_url = \"https://freemidi.org\"\n",
    "    url = \"https://freemidi.org/search?q=\"+name.replace(\" \",\"+\")\n",
    "    response = requests.get(url)\n",
    "    html = BeautifulSoup(response.text, 'html.parser')\n",
    "    artist_page = html.find_all(\"div\",class_=\"search-song-title\")[0].find_all(\"a\")[0].get_attribute_list(\"href\")[0]\n",
    "    url_artist = base_url + artist_page\n",
    "    response = requests.get(url_artist)\n",
    "    html = BeautifulSoup(response.text, 'html.parser')\n",
    "    n_page = int(html.find_all(\"ul\", class_=\"pagination\")[0].find_all(\"a\")[-2].getText())\n",
    "    songs_url=[]\n",
    "    for i in range(n_page):\n",
    "        url_artist = base_url + artist_page + \"-P-\"+str(i)\n",
    "        response = requests.get(url_artist)\n",
    "        html = BeautifulSoup(response.text, 'html.parser')\n",
    "        for track in html.find_all(\"div\", itemprop=\"tracks\"):\n",
    "            songs_url.append(track.find_all(\"a\", itemprop=\"url\")[0].get_attribute_list(\"href\")[0])\n",
    "    for song_url in songs_url:\n",
    "        final_url = base_url+\"/\"+song_url\n",
    "        try:\n",
    "            browser.get(final_url)\n",
    "            sleep(1)\n",
    "            clickable = browser.find_element(value=\"downloadmidi\")\n",
    "            clickable.click()\n",
    "            print(\"Success with \"+song_url)\n",
    "        except:\n",
    "            print(\"Error with \"+song_url)"
   ]
  },
  {
   "cell_type": "code",
   "execution_count": 12,
   "metadata": {},
   "outputs": [],
   "source": [
    "os.device_encoding"
   ]
  },
  {
   "cell_type": "code",
   "execution_count": 13,
   "metadata": {},
   "outputs": [
    {
     "data": {
      "text/plain": [
       "True"
      ]
     },
     "execution_count": 13,
     "metadata": {},
     "output_type": "execute_result"
    }
   ],
   "source": [
    "os.path.isdir(r\"C:\\Users\\Vianey Darsel\\Downloads\")"
   ]
  },
  {
   "cell_type": "code",
   "execution_count": 15,
   "metadata": {},
   "outputs": [
    {
     "data": {
      "text/plain": [
       "True"
      ]
     },
     "execution_count": 15,
     "metadata": {},
     "output_type": "execute_result"
    }
   ],
   "source": [
    "os.path.isdir(r\"C:\\Users\\Vianey Darsel\\Downloads\\katy perry\")"
   ]
  },
  {
   "cell_type": "code",
   "execution_count": 55,
   "metadata": {},
   "outputs": [
    {
     "name": "stdout",
     "output_type": "stream",
     "text": [
      "C:\\Users\\Vianey Darsel\\Downloads\\\\led zeppelin\n",
      "C:\\Users\\Vianey Darsel\\Downloads\\led zeppelin\\\n"
     ]
    },
    {
     "name": "stderr",
     "output_type": "stream",
     "text": [
      "C:\\Users\\VIANEY~1\\AppData\\Local\\Temp/ipykernel_13148/4251263681.py:14: DeprecationWarning: executable_path has been deprecated, please pass in a Service object\n",
      "  browser = webdriver.Chrome(chrome_path,desired_capabilities=caps,options=chrome_options)\n"
     ]
    },
    {
     "name": "stdout",
     "output_type": "stream",
     "text": [
      "Success with download3-4471-achilles-last-stand-led-zeppelin\n",
      "Success with download3-4483-all-my-love-led-zeppelin\n",
      "Success with download3-4413-babe-im-gonna-leave-you-led-zeppelin\n",
      "Success with download3-4469-black-country-woman-led-zeppelin\n",
      "Success with download3-4441-black-dog-led-zeppelin\n",
      "Success with download3-4414-black-mountain-led-zeppelin\n",
      "Success with download3-4491-bonzos-montreux-led-zeppelin\n",
      "Success with download3-4468-boogie-with-stu-led-zeppelin\n",
      "Success with download3-4422-bring-it-on-home-led-zeppelin\n",
      "Success with download3-4463-bron-yr-aur-led-zeppelin\n",
      "Success with download3-4431-bron-y-aur-stomp-led-zeppelin\n",
      "Success with download3-4475-candy-store-rock-led-zeppelin\n",
      "Success with download3-4482-carouselambra-led-zeppelin\n",
      "Success with download3-4432-celebration-day-led-zeppelin\n",
      "Success with download3-4415-communication-breakdown-led-zeppelin\n",
      "Success with download3-26715-communications-breakdown-led-zeppelin\n",
      "Success with download3-4451-crunge-led-zeppelin\n",
      "Success with download3-4456-custard-pie-led-zeppelin\n",
      "Success with download3-4452-dancing-days-led-zeppelin\n",
      "Success with download3-13289-dancing-days-ii-led-zeppelin\n",
      "Success with download3-4490-darlene-led-zeppelin\n",
      "Success with download3-4416-dazed-and-confused-led-zeppelin\n",
      "Success with download3-4464-down-by-the-seaside-led-zeppelin\n",
      "Success with download3-4453-dyer-maker-led-zeppelin\n",
      "Success with download3-4480-fool-in-the-rain-led-zeppelin\n",
      "Success with download3-4472-for-your-life-led-zeppelin\n",
      "Success with download3-4442-four-sticks-led-zeppelin\n",
      "Success with download3-4433-friends-led-zeppelin\n",
      "Success with download3-4434-gallows-pole-led-zeppelin\n",
      "Success with download3-4443-going-to-california-led-zeppelin\n",
      "Success with download3-4417-good-times-bad-times-led-zeppelin\n",
      "Success with download3-4435-hats-off-to-roy-harper-led-zeppelin\n",
      "Success with download3-4423-heartbreaker-led-zeppelin\n",
      "Success with download3-4481-hot-dog-led-zeppelin\n",
      "Success with download3-4476-hots-on-for-nowhere-led-zeppelin\n",
      "Success with download3-4459-houses-of-the-holy-led-zeppelin\n",
      "Success with download3-4418-how-many-more-times-led-zeppelin\n",
      "Success with download3-26789-how-many-more-times-2-led-zeppelin\n",
      "Success with download3-4419-i-cant-quit-you-baby-led-zeppelin\n",
      "Success with download3-4487-i-cant-quit-you-baby-led-zeppelin\n",
      "Success with download3-4484-im-gonna-crawl-led-zeppelin\n",
      "Success with download3-4436-immigrant-song-led-zeppelin\n",
      "Success with download3-26745-immigrant-song-2-led-zeppelin\n",
      "Success with download3-4458-in-my-time-of-dying-led-zeppelin\n",
      "Success with download3-4478-in-the-evening-led-zeppelin\n",
      "Success with download3-4462-in-the-light-led-zeppelin\n",
      "Success with download3-4461-kashmir-led-zeppelin\n",
      "Success with download3-4424-living-loving-maid-shes-just-a-woman-led-zeppelin\n",
      "Success with download3-26053-misty-mountain-hop-led-zeppelin\n",
      "Success with download3-4425-moby-dick-led-zeppelin\n",
      "Success with download3-4466-night-flight-led-zeppelin\n",
      "Success with download3-4454-no-quarter-led-zeppelin\n",
      "Success with download3-4474-nobodys-fault-but-mine-led-zeppelin\n",
      "Success with download3-4437-out-on-the-tiles-led-zeppelin\n",
      "Success with download3-4450-over-the-hills-and-far-away-led-zeppelin\n",
      "Success with download3-4489-ozone-baby-led-zeppelin\n",
      "Success with download3-4486-poor-tom-led-zeppelin\n",
      "Success with download3-4449-rain-song-led-zeppelin\n",
      "Success with download3-4426-ramble-on-led-zeppelin\n",
      "Success with download3-4444-rock-and-roll-led-zeppelin\n",
      "Success with download3-4473-royal-orleans-led-zeppelin\n",
      "Success with download3-4470-sick-again-led-zeppelin\n",
      "Success with download3-4438-since-ive-been-loving-you-led-zeppelin\n",
      "Success with download3-4448-song-remains-the-same-led-zeppelin\n",
      "Success with download3-4479-south-bound-saurez-led-zeppelin\n",
      "Success with download3-4445-stairway-to-heaven-led-zeppelin\n",
      "Success with download3-26592-stairway-to-heaven-led-zeppelin\n",
      "Success with download3-4439-tangerine-led-zeppelin\n",
      "Success with download3-4477-tea-for-one-led-zeppelin\n",
      "Success with download3-4465-ten-years-gone-led-zeppelin\n",
      "Success with download3-4427-thank-you-led-zeppelin\n",
      "Success with download3-4440-thats-the-way-led-zeppelin\n",
      "Success with download3-4446-the-battle-for-evermore-led-zeppelin\n",
      "Success with download3-4428-the-lemon-song-led-zeppelin\n",
      "Success with download3-4455-the-ocean-led-zeppelin\n",
      "Success with download3-4457-the-rover-led-zeppelin\n",
      "Success with download3-4467-the-wanton-song-led-zeppelin\n",
      "Success with download3-4460-trampled-under-foot-led-zeppelin\n",
      "Success with download3-4488-walters-walk-led-zeppelin\n",
      "Success with download3-4492-wearing-and-tearing-led-zeppelin\n",
      "Success with download3-4485-were-gonna-groove-led-zeppelin\n",
      "Success with download3-4429-what-is-and-never-should-be-led-zeppelin\n",
      "Success with download3-4447-when-the-levee-breaks-led-zeppelin\n",
      "Success with download3-4430-whole-lotta-love-led-zeppelin\n",
      "Success with download3-4420-you-shook-me-led-zeppelin\n",
      "Success with download3-4421-your-time-is-gonna-come-led-zeppelin\n"
     ]
    }
   ],
   "source": [
    "download_all_from_artist(\"led zeppelin\")"
   ]
  },
  {
   "cell_type": "code",
   "execution_count": 1,
   "metadata": {},
   "outputs": [],
   "source": [
    "from POP909_Dataset_master.data_process.processor import MidiEventProcessor\n",
    "import pretty_midi as pyd\n",
    "import numpy as np\n",
    "from Code.RNN_file import *\n",
    "from os import listdir,mkdir\n",
    "from tqdm import tqdm\n",
    "\n"
   ]
  }
 ],
 "metadata": {
  "kernelspec": {
   "display_name": "Python 3",
   "language": "python",
   "name": "python3"
  },
  "language_info": {
   "codemirror_mode": {
    "name": "ipython",
    "version": 3
   },
   "file_extension": ".py",
   "mimetype": "text/x-python",
   "name": "python",
   "nbconvert_exporter": "python",
   "pygments_lexer": "ipython3",
   "version": "3.9.7"
  },
  "orig_nbformat": 4
 },
 "nbformat": 4,
 "nbformat_minor": 2
}
